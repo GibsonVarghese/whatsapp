{ Gibson Varghese KV  ,,,,  ABSORPTION  ,,,,   ABDULKALAM  ,,,,,,  23ikeod
 "cells": [
  {
   "cell_type": "markdown",
   "metadata": {},
   "source": [
    "# 1. Import and Install Dependencies"
   ]
  },
  {
   "cell_type": "code",
   "execution_count": null,
   "metadata": {},
   "outputs": [],
   "source": [
    "!pip install tensorflow==2.4.1 tensorflow-gpu==2.4.1 opencv-python mediapipe sklearn matplotlib"
   ] appppphughjhghi
   \jijjiji
  },
  {
   "cell_type": "code",
   "execution_count": 1,
   "metadata": {},
   "outputs": [],
   "source": [
    "import cv2\n",
    "import numpy as np\n",
    "import os\n",
    "from matplotlib import pyplot as plt\n",
    "import time\n",
    "import mediapipe as mp"
   ]
  },
  {
   "cell_type": "code",
   "execution_count": 59,
   "metadata": {},
   "outputs": [],
   "source": [
    "def extract_keypoints(results):\n",
    "    #pose = np.array([[res.x, res.y, res.z, res.visibility] for res in results.pose_landmarks.landmark]).flatten() if results.pose_landmarks else np.zeros(33*4)\n",
    "    #face = np.array([[res.x, res.y, res.z] for res in results.face_landmarks.landmark]).flatten() if results.face_landmarks else np.zeros(468*3)\n",
    "    lh = np.array([[res.x, res.y, res.z] for res in results.left_hand_landmarks.landmark]).flatten() if results.left_hand_landmarks else np.zeros(21*3)\n",
    "    rh = np.array([[res.x, res.y, res.z] for res in results.right_hand_landmarks.landmark]).flatten() if results.right_hand_landmarks else np.zeros(21*3)\n",
    "    return np.concatenate([lh, rh])"
   ]
  },
  {
   "cell_type": "code",
   "execution_count": 60,
   "metadata": {},
   "outputs": [],
   "source": [
    "def draw_styled_landmarks(image, results):\n",
    "    # Draw face connections\n",
    "    mp_drawing.draw_landmarks(image, results.face_landmarks, mp_holistic.FACE_CONNECTIONS, \n",
    "                             mp_drawing.DrawingSpec(color=(80,110,10), thickness=1, circle_radius=1), \n",
    "                             mp_drawing.DrawingSpec(color=(80,256,121), thickness=1, circle_radius=1)\n",
    "                             ) \n",
    "    # Draw pose connections\n",
    "    mp_drawing.draw_landmarks(image, results.pose_landmarks, mp_holistic.POSE_CONNECTIONS,\n",
    "                             mp_drawing.DrawingSpec(color=(80,22,10), thickness=2, circle_radius=4), \n",
    "                             mp_drawing.DrawingSpec(color=(80,44,121), thickness=2, circle_radius=2)\n",
    "                             ) \n",
    "    # Draw left hand connections\n",
    "    mp_drawing.draw_landmarks(image, results.left_hand_landmarks, mp_holistic.HAND_CONNECTIONS, \n",
    "                             mp_drawing.DrawingSpec(color=(121,22,76), thickness=2, circle_radius=4), \n",
    "                             mp_drawing.DrawingSpec(color=(121,44,250), thickness=2, circle_radius=2)\n",
    "                             ) \n",
    "   
   ]
  },
  {
   "cell_type": "code",
   "execution_count": 61,
   "metadata": {},
   "outputs": [],
   "source": [
    "def draw_landmarks(image, results):\n",
    "    mp_drawing.draw_landmarks(image, results.face_landmarks, mp_holistic.FACE_CONNECTIONS) # Draw face connections\n",
    "    mp_drawing.draw_landmarks(image, results.pose_landmarks, mp_holistic.POSE_CONNECTIONS) # Draw pose connections\n",
    "    mp_drawing.draw_landmarks(image, results.left_hand_landmarks, mp_holistic.HAND_CONNECTIONS) # Draw left hand connections\n",
    "    mp_drawing.draw_landmarks(image, results.right_hand_landmarks, mp_holistic.HAND_CONNECTIONS) # Draw right hand connections"
   ]
  },
  {
   "cell_type": "code",
   "execution_count": 62,
   "metadata": {},
   "outputs": [],
   "source": [
    "def mediapipe_detection(image, model):\n",
    "    image = cv2.cvtColor(image, cv2.COLOR_BGR2RGB) # COLOR CONVERSION BGR 2 RGB\n",
    "    image.flags.writeable = False                  # Image is no longer writeable\n",
    "    results = model.process(image)                 # Make prediction\n",
    "    image.flags.writeable = True                   # Image is now writeable \n",
    "    image = cv2.cvtColor(image, cv2.COLOR_RGB2BGR) # COLOR COVERSION RGB 2 BGR\n",
    "    return image, results"
   ]
  },
  {
   "cell_type": "markdown",
   "metadata": {},
   "source": [
    "# 2. Keypoints using MP Holistic"
   ]
  },
  {
   "cell_type": "code",
   "execution_count": 63,
   "metadata": {},
   "outputs": [],
   "source": [
    "mp_holistic = mp.solutions.holistic # Holistic model\n",
    "mp_drawing = mp.solutions.drawing_utils # Drawing utilities"
   ]
  },
  {
   "cell_type": "code",
   "execution_count": 64,
   "metadata": {},
   "outputs": [
    {
     "ename": "FileNotFoundError",
     "evalue": "[WinError 3] The system cannot find the path specified: 'MP_Data'",
     "output_type": "error",
     "traceback": [
      "\u001b[1;31m---------------------------------------------------------------------------\u001b[0m",
      "\u001b[1;31mFileNotFoundError\u001b[0m                         Traceback (most recent call last)",
      "\u001b[1;32m<ipython-input-64-c55462b287b3>\u001b[0m in \u001b[0;36m<module>\u001b[1;34m\u001b[0m\n\u001b[0;32m      1\u001b[0m \u001b[1;32mimport\u001b[0m \u001b[0mos\u001b[0m\u001b[1;33m\u001b[0m\u001b[1;33m\u001b[0m\u001b[0m\n\u001b[1;32m----> 2\u001b[1;33m \u001b[0mmylist\u001b[0m \u001b[1;33m=\u001b[0m\u001b[0mos\u001b[0m\u001b[1;33m.\u001b[0m\u001b[0mlistdir\u001b[0m\u001b[1;33m(\u001b[0m\u001b[1;34m'MP_Data'\u001b[0m\u001b[1;33m)\u001b[0m\u001b[1;33m\u001b[0m\u001b[1;33m\u001b[0m\u001b[0m\n\u001b[0m\u001b[0;32m      3\u001b[0m \u001b[0mprint\u001b[0m\u001b[1;33m(\u001b[0m\u001b[0mmylist\u001b[0m\u001b[1;33m)\u001b[0m\u001b[1;33m\u001b[0m\u001b[1;33m\u001b[0m\u001b[0m\n",
      "\u001b[1;31mFileNotFoundError\u001b[0m: [WinError 3] The system cannot find the path specified: 'MP_Data'"
     ]
    }
   ],
   "source": [
    "import os \n",
    "mylist =os.listdir('M_Data')\n",
    "print(mylist)"
   ]
  },
  {
   "cell_type": "code",
   "execution_count": 18,
   "metadata": {},
   "outputs": [],
   "source": [
    "# Path for exported data, numpy arrays\n",
    "DATA_PATH = os.path.join('MP_Data') \n",
    "\n",
    "# Actions that we try to detect\n",
    "actions = np.array(['chat', 'crying', 'free', 'help', 'name', 'phone number', 'room', 'serve', 'sleep', 'today', 'train', 'you'])\n",
    "\n",
    "# Thirty videos worth of data\n",
    "no_sequences = 30\n",
    "\n",
    "# Videos are going to be 30 frames in length\n",
    "sequence_length = 30\n",
    "\n",
    "# Folder start\n",
    "start_folder = 30"
   ]
  },
  {
   "cell_type": "code",
   "execution_count": 20,
   "metadata": {},
   "outputs": [],
   "source": [
    "for action in actions: \n",
    "    for sequence in range(no_sequences):\n",
    "        try: \n",
    "            os.makedirs(os.path.join(DATA_PATH, action, str(sequence)))\n",
    "        except:\n",
    "            pass"
   ]
  },
  {
   "cell_type": "markdown",
   "metadata": {},
   "source": [
    "# 6. Preprocess Data and Create Labels and Features"
   ]
  },
  {
   "cell_type": "code",
   "execution_count": 21,
   "metadata": {},
   "outputs": [],
   "source": [
    "from sklearn.model_selection import train_test_split\n",
    "from tensorflow.keras.utils import to_categorical"
   ]
  },
  {
   "cell_type": "code",
   "execution_count": 22,
   "metadata": {},
   "outputs": [],
   "source": [
    "label_map = {label:num for num, label in enumerate(actions)}"
   ]
  },
  {
   "cell_type": "code",
   "execution_count": 23,
   "metadata": {},
   "outputs": [
    {
     "data": {
      "text/plain": [
       "{'chat': 0,\n",
       " 'crying': 1,\n",
       " 'free': 2,\n",
       " 'help': 3,\n",
       " 'name': 4,\n",
       " 'phone number': 5,\n",
       " 'room': 6,\n",
       " 'serve': 7,\n",
       " 'sleep': 8,\n",
       " 'today': 9,\n",
       " 'train': 10,\n",
       " 'you': 11}"
      ]
     },
     "execution_count": 23,
     "metadata": {},
     "output_type": "execute_result"
    }
   ],
   "source": [
    "label_map"
   ]
  },
  {
   "cell_type": "code",
   "execution_count": 24,
   "metadata": {},
   "outputs": [],
   "source": [
    "sequences, labels = [], []\n",
    "for action in actions:\n",
    "    for sequence in np.array(os.listdir(os.path.join(DATA_PATH, action))).astype(int):\n",
    "        window = []\n",
    "        for frame_num in range(sequence_length):\n",
    "            res = np.load(os.path.join(DATA_PATH, action, str(sequence), \"{}.npy\".format(frame_num)))\n",
    "            window.append(res)\n",
    "        sequences.append(window)\n",
    "        labels.append(label_map[action])"
   ]
  },
  {
   "cell_type": "code",
   "execution_count": 25,
   "metadata": {},
   "outputs": [
    {
     "data": {
      "text/plain": [
       "(360, 30, 126)"
      ]
     },
     "execution_count": 25,
     "metadata": {},
     "output_type": "execute_result"
    }
   ],
   "source": [
    "np.array(sequences).shape"
   ]
  },
  {
   "cell_type": "code",
   "execution_count": 26,
   "metadata": {},
   "outputs": [
    {
     "data": {
      "text/plain": [
       "(360,)"
      ]
     },
     "execution_count": 26,
     "metadata": {},
     "output_type": "execute_result"
    }
   ],
   "source": [
    "np.array(labels).shape"
   ]
  },
  {
   "cell_type": "code",
   "execution_count": 27,
   "metadata": {},
   "outputs": [],
   "source": [
    "X = np.array(sequences)"
   ]
  },
  {
   "cell_type": "code",
   "execution_count": 28,
   "metadata": {},
   "outputs": [
    {
     "data": {
      "text/plain": [
       "(360, 30, 126)"
      ]
     },
     "execution_count": 28,
     "metadata": {},
     "output_type": "execute_result"
    }
   ],
   "source": [
    "X.shape"
   ]
  },
  {
   "cell_type": "code",
   "execution_count": 29,
   "metadata": {},
   "outputs": [],
   "source": [
    "y = to_categorical(labels).astype(int)"
   ]
  },
  {
   "cell_type": "code",
   "execution_count": 30,
   "metadata": {},
   "outputs": [],
   "source": [
    "X_train, X_test, y_train, y_test = train_test_split(X, y, test_size=0.05)"
   ]
  },
  {
   "cell_type": "code",
   "execution_count": 31,
   "metadata": {},
   "outputs": [
    {
     "data": {
      "text/plain": [
       "(18, 12)"
      ]
     },
     "execution_count": 31,
     "metadata": {},
     "output_type": "execute_result"
    }
   ],
   "source": [
    "y_test.shape"
   ]
  },
  {
   "cell_type": "markdown",
   "metadata": {},
   "source": [
    "# 7. Build and Train LSTM Neural Network"
   ]
  },
  {
   "cell_type": "code",
   "execution_count": 32,
   "metadata": {},
   "outputs": [],
   "source": [
    "from tensorflow.keras.models import Sequential\n",
    "from tensorflow.keras.layers import LSTM, Dense\n",
    "from tensorflow.keras.callbacks import TensorBoard"
   ]
  },
  {
   "cell_type": "code",
   "execution_count": 33,
   "metadata": {},
   "outputs": [],
   "source": [
    "log_dir = os.path.join('Logs')\n",
    "tb_callback = TensorBoard(log_dir=log_dir)"
   ]
  },
  {
   "cell_type": "code",
   "execution_count": 37,
   "metadata": {},
   "outputs": [],
   "source": [
    "model = Sequential()\n",
    "model.add(LSTM(64, return_sequences=True, activation='relu', input_shape=(30,126)))\n",
    "model.add(LSTM(128, return_sequences=True, activation='relu'))\n",
    "model.add(LSTM(64, return_sequences=False, activation='relu'))\n",
    "model.add(Dense(64, activation='relu'))\n",
    "model.add(Dense(32, activation='relu'))\n",
    "model.add(Dense(actions.shape[0], activation='softmax'))"
   ]
  },
  {
   "cell_type": "code",
   "execution_count": 38,
   "metadata": {},
   "outputs": [],
   "source": [
    "model.compile(optimizer='Adam', loss='categorical_crossentropy', metrics=['categorical_accuracy'])"
   ]
  },
  {
   "cell_type": "code",
   "execution_count": 39,
   "metadata": {
    "scrolled": true
   },
   "outputs": [
    {
     "name": "stdout",
     "output_type": "stream",
     "text": [
      "Epoch 1/90\n",
      "11/11 [==============================] - 6s 165ms/step - loss: 2.4763 - categorical_accuracy: 0.0745\n",
      "Epoch 2/90\n",
      "11/11 [==============================] - 1s 89ms/step - loss: 2.3256 - categorical_accuracy: 0.2353\n",
      "Epoch 3/90\n",
      "11/11 [==============================] - 1s 93ms/step - loss: 2.2437 - categorical_accuracy: 0.2580\n",
      "Epoch 4/90\n",
      "11/11 [==============================] - 1s 92ms/step - loss: 2.0274 - categorical_accuracy: 0.3435\n",
      "Epoch 5/90\n",
      "11/11 [==============================] - 1s 93ms/step - loss: 2.0197 - categorical_accuracy: 0.3670\n",
      "Epoch 6/90\n",
      "11/11 [==============================] - 1s 95ms/step - loss: 1.6736 - categorical_accuracy: 0.3701\n",
      "Epoch 7/90\n",
      "11/11 [==============================] - 1s 92ms/step - loss: 1.9200 - categorical_accuracy: 0.4311\n",
      "Epoch 8/90\n",
      "11/11 [==============================] - 1s 97ms/step - loss: 2.0019 - categorical_accuracy: 0.2701\n",
      "Epoch 9/90\n",
      "11/11 [==============================] - 1s 91ms/step - loss: 1.8118 - categorical_accuracy: 0.3845\n",
      "Epoch 10/90\n",
      "11/11 [==============================] - 1s 93ms/step - loss: 1.6721 - categorical_accuracy: 0.3523\n",
      "Epoch 11/90\n",
      "11/11 [==============================] - 1s 100ms/step - loss: 1.6469 - categorical_accuracy: 0.4187\n",
      "Epoch 12/90\n",
      "11/11 [==============================] - 1s 99ms/step - loss: 1.4621 - categorical_accuracy: 0.5661\n",
      "Epoch 13/90\n",
      "11/11 [==============================] - 1s 98ms/step - loss: 1.3364 - categorical_accuracy: 0.5163\n",
      "Epoch 14/90\n",
      "11/11 [==============================] - 1s 98ms/step - loss: 1.2911 - categorical_accuracy: 0.5744\n",
      "Epoch 15/90\n",
      "11/11 [==============================] - 1s 105ms/step - loss: 1.1487 - categorical_accuracy: 0.5958\n",
      "Epoch 16/90\n",
      "11/11 [==============================] - 1s 98ms/step - loss: 0.9336 - categorical_accuracy: 0.6642\n",
      "Epoch 17/90\n",
      "11/11 [==============================] - 1s 96ms/step - loss: 0.8756 - categorical_accuracy: 0.7053\n",
      "Epoch 18/90\n",
      "11/11 [==============================] - 1s 94ms/step - loss: 0.9058 - categorical_accuracy: 0.6834\n",
      "Epoch 19/90\n",
      "11/11 [==============================] - 1s 100ms/step - loss: 0.8071 - categorical_accuracy: 0.7462\n",
      "Epoch 20/90\n",
      "11/11 [==============================] - 1s 98ms/step - loss: 0.7252 - categorical_accuracy: 0.7282\n",
      "Epoch 21/90\n",
      "11/11 [==============================] - 1s 98ms/step - loss: 5.8000 - categorical_accuracy: 0.5193\n",
      "Epoch 22/90\n",
      "11/11 [==============================] - 1s 102ms/step - loss: 30.6671 - categorical_accuracy: 0.3101\n",
      "Epoch 23/90\n",
      "11/11 [==============================] - 1s 97ms/step - loss: 4.4809 - categorical_accuracy: 0.2329\n",
      "Epoch 24/90\n",
      "11/11 [==============================] - 1s 99ms/step - loss: 2.2578 - categorical_accuracy: 0.2102\n",
      "Epoch 25/90\n",
      "11/11 [==============================] - 1s 98ms/step - loss: 1.9062 - categorical_accuracy: 0.3031\n",
      "Epoch 26/90\n",
      "11/11 [==============================] - 1s 94ms/step - loss: 1.8237 - categorical_accuracy: 0.3467\n",
      "Epoch 27/90\n",
      "11/11 [==============================] - 1s 97ms/step - loss: 1.7205 - categorical_accuracy: 0.5287\n",
      "Epoch 28/90\n",
      "11/11 [==============================] - 1s 99ms/step - loss: 1.5073 - categorical_accuracy: 0.4828\n",
      "Epoch 29/90\n",
      "11/11 [==============================] - 1s 97ms/step - loss: 1.5845 - categorical_accuracy: 0.5504\n",
      "Epoch 30/90\n",
      "11/11 [==============================] - 1s 100ms/step - loss: 1.6101 - categorical_accuracy: 0.4174\n",
      "Epoch 31/90\n",
      "11/11 [==============================] - 1s 99ms/step - loss: 1.4833 - categorical_accuracy: 0.5742\n",
      "Epoch 32/90\n",
      "11/11 [==============================] - 1s 99ms/step - loss: 1.1862 - categorical_accuracy: 0.5814\n",
      "Epoch 33/90\n",
      "11/11 [==============================] - 1s 100ms/step - loss: 1.0228 - categorical_accuracy: 0.6440\n",
      "Epoch 34/90\n",
      "11/11 [==============================] - 1s 99ms/step - loss: 0.9150 - categorical_accuracy: 0.7416\n",
      "Epoch 35/90\n",
      "11/11 [==============================] - 1s 96ms/step - loss: 0.9226 - categorical_accuracy: 0.7236\n",
      "Epoch 36/90\n",
      "11/11 [==============================] - 1s 105ms/step - loss: 0.7297 - categorical_accuracy: 0.7994\n",
      "Epoch 37/90\n",
      "11/11 [==============================] - 1s 102ms/step - loss: 0.8851 - categorical_accuracy: 0.7338\n",
      "Epoch 38/90\n",
      "11/11 [==============================] - 1s 101ms/step - loss: 1.1046 - categorical_accuracy: 0.5987\n",
      "Epoch 39/90\n",
      "11/11 [==============================] - 1s 100ms/step - loss: 0.7966 - categorical_accuracy: 0.7010\n",
      "Epoch 40/90\n",
      "11/11 [==============================] - 1s 101ms/step - loss: 0.6695 - categorical_accuracy: 0.7948\n",
      "Epoch 41/90\n",
      "11/11 [==============================] - 1s 98ms/step - loss: 0.7937 - categorical_accuracy: 0.7580\n",
      "Epoch 42/90\n",
      "11/11 [==============================] - 1s 101ms/step - loss: 0.7255 - categorical_accuracy: 0.7390\n",
      "Epoch 43/90\n",
      "11/11 [==============================] - 1s 99ms/step - loss: 0.5885 - categorical_accuracy: 0.8156\n",
      "Epoch 44/90\n",
      "11/11 [==============================] - ETA: 0s - loss: 0.7515 - categorical_accuracy: 0.77 - 1s 97ms/step - loss: 0.7573 - categorical_accuracy: 0.7774\n",
      "Epoch 45/90\n",
      "11/11 [==============================] - 1s 100ms/step - loss: 0.8974 - categorical_accuracy: 0.7011\n",
      "Epoch 46/90\n",
      "11/11 [==============================] - 1s 96ms/step - loss: 3.4261 - categorical_accuracy: 0.6000\n",
      "Epoch 47/90\n",
      "11/11 [==============================] - 1s 97ms/step - loss: 1.1557 - categorical_accuracy: 0.6223\n",
      "Epoch 48/90\n",
      "11/11 [==============================] - 1s 101ms/step - loss: 0.9642 - categorical_accuracy: 0.6570\n",
      "Epoch 49/90\n",
      "11/11 [==============================] - 1s 99ms/step - loss: 0.9974 - categorical_accuracy: 0.6724\n",
      "Epoch 50/90\n",
      "11/11 [==============================] - 1s 98ms/step - loss: 0.8176 - categorical_accuracy: 0.6944\n",
      "Epoch 51/90\n",
      "11/11 [==============================] - 1s 100ms/step - loss: 0.9811 - categorical_accuracy: 0.6514\n",
      "Epoch 52/90\n",
      "11/11 [==============================] - 1s 92ms/step - loss: 0.8632 - categorical_accuracy: 0.6695\n",
      "Epoch 53/90\n",
      "11/11 [==============================] - 1s 98ms/step - loss: 0.6990 - categorical_accuracy: 0.7208\n",
      "Epoch 54/90\n",
      "11/11 [==============================] - 1s 105ms/step - loss: 0.6075 - categorical_accuracy: 0.7405\n",
      "Epoch 55/90\n",
      "11/11 [==============================] - 1s 107ms/step - loss: 0.6869 - categorical_accuracy: 0.7943\n",
      "Epoch 56/90\n",
      "11/11 [==============================] - 1s 106ms/step - loss: 0.6562 - categorical_accuracy: 0.7730\n",
      "Epoch 57/90\n",
      "11/11 [==============================] - 1s 96ms/step - loss: 0.5028 - categorical_accuracy: 0.8242\n",
      "Epoch 58/90\n",
      "11/11 [==============================] - 1s 97ms/step - loss: 0.3853 - categorical_accuracy: 0.8501\n",
      "Epoch 59/90\n",
      "11/11 [==============================] - 1s 100ms/step - loss: 0.4604 - categorical_accuracy: 0.8349\n",
      "Epoch 60/90\n",
      "11/11 [==============================] - ETA: 0s - loss: 0.4251 - categorical_accuracy: 0.85 - 1s 95ms/step - loss: 0.4268 - categorical_accuracy: 0.8512\n",
      "Epoch 61/90\n",
      "11/11 [==============================] - 1s 100ms/step - loss: 0.4294 - categorical_accuracy: 0.8843\n",
      "Epoch 62/90\n",
      "11/11 [==============================] - 1s 98ms/step - loss: 0.3974 - categorical_accuracy: 0.8462\n",
      "Epoch 63/90\n",
      "11/11 [==============================] - 1s 98ms/step - loss: 0.3887 - categorical_accuracy: 0.8663\n",
      "Epoch 64/90\n",
      "11/11 [==============================] - 1s 99ms/step - loss: 0.3242 - categorical_accuracy: 0.9019\n",
      "Epoch 65/90\n",
      "11/11 [==============================] - 1s 98ms/step - loss: 0.2841 - categorical_accuracy: 0.8951\n",
      "Epoch 66/90\n",
      "11/11 [==============================] - 1s 101ms/step - loss: 0.3109 - categorical_accuracy: 0.8998\n",
      "Epoch 67/90\n",
      "11/11 [==============================] - 1s 99ms/step - loss: 0.2498 - categorical_accuracy: 0.9109\n",
      "Epoch 68/90\n",
      "11/11 [==============================] - 1s 99ms/step - loss: 0.2457 - categorical_accuracy: 0.9139\n",
      "Epoch 69/90\n",
      "11/11 [==============================] - 1s 100ms/step - loss: 0.5395 - categorical_accuracy: 0.8332\n",
      "Epoch 70/90\n",
      "11/11 [==============================] - 1s 104ms/step - loss: 0.4383 - categorical_accuracy: 0.8493\n",
      "Epoch 71/90\n",
      "11/11 [==============================] - 1s 99ms/step - loss: 0.2649 - categorical_accuracy: 0.9262 0s - loss: 0.2440 - categorical_ac\n",
      "Epoch 72/90\n"
     ]
    },
    {
     "name": "stdout",
     "output_type": "stream",
     "text": [
      "11/11 [==============================] - 1s 91ms/step - loss: 0.2204 - categorical_accuracy: 0.9466\n",
      "Epoch 73/90\n",
      "11/11 [==============================] - 1s 87ms/step - loss: 0.4463 - categorical_accuracy: 0.9216\n",
      "Epoch 74/90\n",
      "11/11 [==============================] - 1s 88ms/step - loss: 0.4552 - categorical_accuracy: 0.8181\n",
      "Epoch 75/90\n",
      "11/11 [==============================] - 1s 91ms/step - loss: 0.2853 - categorical_accuracy: 0.9202\n",
      "Epoch 76/90\n",
      "11/11 [==============================] - 1s 95ms/step - loss: 0.2571 - categorical_accuracy: 0.9084\n",
      "Epoch 77/90\n",
      "11/11 [==============================] - 1s 96ms/step - loss: 0.1888 - categorical_accuracy: 0.9267\n",
      "Epoch 78/90\n",
      "11/11 [==============================] - 1s 97ms/step - loss: 0.1432 - categorical_accuracy: 0.9662\n",
      "Epoch 79/90\n",
      "11/11 [==============================] - 1s 94ms/step - loss: 0.1805 - categorical_accuracy: 0.9458\n",
      "Epoch 80/90\n",
      "11/11 [==============================] - 1s 98ms/step - loss: 0.2378 - categorical_accuracy: 0.9350\n",
      "Epoch 81/90\n",
      "11/11 [==============================] - 1s 97ms/step - loss: 0.2253 - categorical_accuracy: 0.9330\n",
      "Epoch 82/90\n",
      "11/11 [==============================] - 1s 95ms/step - loss: 0.1360 - categorical_accuracy: 0.9622\n",
      "Epoch 83/90\n",
      "11/11 [==============================] - 1s 99ms/step - loss: 0.1149 - categorical_accuracy: 0.9794\n",
      "Epoch 84/90\n",
      "11/11 [==============================] - 1s 98ms/step - loss: 0.1889 - categorical_accuracy: 0.9305\n",
      "Epoch 85/90\n",
      "11/11 [==============================] - 1s 97ms/step - loss: 0.1571 - categorical_accuracy: 0.9589\n",
      "Epoch 86/90\n",
      "11/11 [==============================] - 1s 97ms/step - loss: 0.1267 - categorical_accuracy: 0.9720\n",
      "Epoch 87/90\n",
      "11/11 [==============================] - 1s 97ms/step - loss: 0.0917 - categorical_accuracy: 0.9721\n",
      "Epoch 88/90\n",
      "11/11 [==============================] - 1s 102ms/step - loss: 0.0592 - categorical_accuracy: 0.9875\n",
      "Epoch 89/90\n",
      "11/11 [==============================] - 1s 98ms/step - loss: 0.1775 - categorical_accuracy: 0.9533\n",
      "Epoch 90/90\n",
      "11/11 [==============================] - 1s 97ms/step - loss: 0.1110 - categorical_accuracy: 0.9713\n"
     ]
    },
    {
     "data": {
      "text/plain": [
       "<tensorflow.python.keras.callbacks.History at 0x27d6fe9a3a0>"
      ]
     },
     "execution_count": 39,
     "metadata": {},
     "output_type": "execute_result"
    }
   ],
   "source": [
    "model.fit(X_train, y_train, epochs=90, callbacks=[tb_callback])"
   ]
  },
  {
   "cell_type": "code",
   "execution_count": 40,
   "metadata": {},
   "outputs": [
    {
     "name": "stdout",
     "output_type": "stream",
     "text": [
      "Model: \"sequential_1\"\n",
      "_________________________________________________________________\n",
      "Layer (type)                 Output Shape              Param #   \n",
      "=================================================================\n",
      "lstm_3 (LSTM)                (None, 30, 64)            48896     \n",
      "_________________________________________________________________\n",
      "lstm_4 (LSTM)                (None, 30, 128)           98816     \n",
      "_________________________________________________________________\n",
      "lstm_5 (LSTM)                (None, 64)                49408     \n",
      "_________________________________________________________________\n",
      "dense_3 (Dense)              (None, 64)                4160      \n",
      "_________________________________________________________________\n",
      "dense_4 (Dense)              (None, 32)                2080      \n",
      "_________________________________________________________________\n",
      "dense_5 (Dense)              (None, 12)                396       \n",
      "=================================================================\n",
      "Total params: 203,756\n",
      "Trainable params: 203,756\n",
      "Non-trainable params: 0\n",
      "_________________________________________________________________\n"
     ]
    }
   ],
   "source": [
    "model.summary()"
   ]
  },
  {
   "cell_type": "markdown",
   "metadata": {},
   "source": [
    "# 8. Make Predictions"
   ]
  },
  {
   "cell_type": "code",
   "execution_count": 41,
   "metadata": {},
   "outputs": [],
   "source": [
    "res = model.predict(X_test)"
   ]
  },
  {
   "cell_type": "code",
   "execution_count": 42,
   "metadata": {},
   "outputs": [
    {
     "data": {
      "text/plain": [
       "'name'"
      ]
     },
     "execution_count": 42,
     "metadata": {},
     "output_type": "execute_result"
    }
   ],
   "source": [
    "actions[np.argmax(res[4])]"
   ]
  },
  {
   "cell_type": "code",
   "execution_count": 43,
   "metadata": {},
   "outputs": [
    {
     "data": {
      "text/plain": [
       "'name'"
      ]
     },
     "execution_count": 43,
     "metadata": {},
     "output_type": "execute_result"
    }
   ],
   "source": [
    "actions[np.argmax(y_test[4])]"
   ]
  },
  {
   "cell_type": "markdown",
   "metadata": {},
   "source": [
    "# 9. Save Weights"
   ]
  },
  {
   "cell_type": "code",
   "execution_count": 44,
   "metadata": {},
   "outputs": [],
   "source": [
    "model.save('action.h5')"
   ]
  },
  {
   "cell_type": "code",
   "execution_count": 45,
   "metadata": {},
   "outputs": [],
   "source": [
    "model.load_weights('action.h5')"
   ]
  },
  {
   "cell_type": "markdown",
   "metadata": {},
   "source": [
    "# 10. Evaluation using Confusion Matrix and Accuracy"
   ]
  },
  {
   "cell_type": "code",
   "execution_count": 46,
   "metadata": {},
   "outputs": [],
   "source": [
    "from sklearn.metrics import multilabel_confusion_matrix, accuracy_score"
   ]
  },
  {
   "cell_type": "code",
   "execution_count": 47,
   "metadata": {},
   "outputs": [],
   "source": [
    "yhat = model.predict(X_test)"
   ]
  },
  {
   "cell_type": "code",
   "execution_count": 48,
   "metadata": {},
   "outputs": [],
   "source": [
    "ytrue = np.argmax(y_test, axis=1).tolist()\n",
    "yhat = np.argmax(yhat, axis=1).tolist()"
   ]
  },
  {
   "cell_type": "code",
   "execution_count": 49,
   "metadata": {},
   "outputs": [
    {
     "data": {
      "text/plain": [
       "array([[[17,  0],\n",
       "        [ 0,  1]],\n",
       "\n",
       "       [[17,  0],\n",
       "        [ 0,  1]],\n",
       "\n",
       "       [[15,  2],\n",
       "        [ 0,  1]],\n",
       "\n",
       "       [[15,  0],\n",
       "        [ 1,  2]],\n",
       "\n",
       "       [[16,  0],\n",
       "        [ 0,  2]],\n",
       "\n",
       "       [[17,  0],\n",
       "        [ 0,  1]],\n",
       "\n",
       "       [[17,  0],\n",
       "        [ 0,  1]],\n",
       "\n",
       "       [[16,  0],\n",
       "        [ 0,  2]],\n",
       "\n",
       "       [[15,  0],\n",
       "        [ 0,  3]],\n",
       "\n",
       "       [[15,  0],\n",
       "        [ 1,  2]]], dtype=int64)"
      ]
     },
     "execution_count": 49,
     "metadata": {},
     "output_type": "execute_result"
    }
   ],
   "source": [
    "multilabel_confusion_matrix(ytrue, yhat)"
   ]
  },
  {
   "cell_type": "code",
   "execution_count": 50,
   "metadata": {},
   "outputs": [
    {
     "data": {
      "text/plain": [
       "0.8888888888888888"
      ]
     },
     "execution_count": 50,
     "metadata": {},
     "output_type": "execute_result"
    }
   ],
   "source": [
    "accuracy_score(ytrue, yhat)"
   ]
  },
  {
   "cell_type": "markdown",
   "metadata": {},
   "source": [
    "# 11. Test in Real Time"
   ]
  },
  {
   "cell_type": "code",
   "execution_count": 51,
   "metadata": {},
   "outputs": [],
   "source": [
    "from scipy import stats"
   ]
  },
  {
   "cell_type": "code",
   "execution_count": 52,
   "metadata": {},
   "outputs": [],
   "source": [
    "colors = [(245,117,16), (117,245,16), (16,117,245)]\n",
    "def prob_viz(res, actions, input_frame, colors):\n",
    "    output_frame = input_frame.copy()\n",
    "    for num, prob in enumerate(res):\n",
    "        cv2.rectangle(output_frame, (0,60+num*40), (int(prob*100), 90+num*40), colors[num], -1)\n",
    "        cv2.putText(output_frame, actions[num], (0, 85+num*40), cv2.FONT_HERSHEY_SIMPLEX, 1, (255,255,255), 2, cv2.LINE_AA)\n",
    "        \n",
    "    return output_frame"
   ]
  },
  {
   "cell_type": "code",
   "execution_count": 66,
   "metadata": {},
   "outputs": [
    {
     "name": "stdout",
     "output_type": "stream",
     "text": [
      "<class 'mediapipe.python.solution_base.SolutionOutputs'>\n",
      "<class 'mediapipe.python.solution_base.SolutionOutputs'>\n",
      "<class 'mediapipe.python.solution_base.SolutionOutputs'>\n",
      "<class 'mediapipe.python.solution_base.SolutionOutputs'>\n",
      "<class 'mediapipe.python.solution_base.SolutionOutputs'>\n",
      "<class 'mediapipe.python.solution_base.SolutionOutputs'>\n",
      "<class 'mediapipe.python.solution_base.SolutionOutputs'>\n",
      "<class 'mediapipe.python.solution_base.SolutionOutputs'>\n",
      "<class 'mediapipe.python.solution_base.SolutionOutputs'>\n",
      "<class 'mediapipe.python.solution_base.SolutionOutputs'>\n",
      "<class 'mediapipe.python.solution_base.SolutionOutputs'>\n",
      "<class 'mediapipe.python.solution_base.SolutionOutputs'>\n",
      "<class 'mediapipe.python.solution_base.SolutionOutputs'>\n",
      "<class 'mediapipe.python.solution_base.SolutionOutputs'>\n",
      "<class 'mediapipe.python.solution_base.SolutionOutputs'>\n",
      "<class 'mediapipe.python.solution_base.SolutionOutputs'>\n",
      "<class 'mediapipe.python.solution_base.SolutionOutputs'>\n",
      "<class 'mediapipe.python.solution_base.SolutionOutputs'>\n",
      "<class 'mediapipe.python.solution_base.SolutionOutputs'>\n",
      "<class 'mediapipe.python.solution_base.SolutionOutputs'>\n",
      "<class 'mediapipe.python.solution_base.SolutionOutputs'>\n",
      "<class 'mediapipe.python.solution_base.SolutionOutputs'>\n",
      "<class 'mediapipe.python.solution_base.SolutionOutputs'>\n",
      "<class 'mediapipe.python.solution_base.SolutionOutputs'>\n",
      "<class 'mediapipe.python.solution_base.SolutionOutputs'>\n",
      "<class 'mediapipe.python.solution_base.SolutionOutputs'>\n",
      "<class 'mediapipe.python.solution_base.SolutionOutputs'>\n",
      "<class 'mediapipe.python.solution_base.SolutionOutputs'>\n",
      "<class 'mediapipe.python.solution_base.SolutionOutputs'>\n",
      "<class 'mediapipe.python.solution_base.SolutionOutputs'>\n",
      "train\n",
      "<class 'mediapipe.python.solution_base.SolutionOutputs'>\n",
      "train\n",
      "<class 'mediapipe.python.solution_base.SolutionOutputs'>\n",
      "train\n",
      "<class 'mediapipe.python.solution_base.SolutionOutputs'>\n",
      "train\n",
      "<class 'mediapipe.python.solution_base.SolutionOutputs'>\n",
      "train\n",
      "<class 'mediapipe.python.solution_base.SolutionOutputs'>\n",
      "train\n",
      "<class 'mediapipe.python.solution_base.SolutionOutputs'>\n",
      "train\n",
      "<class 'mediapipe.python.solution_base.SolutionOutputs'>\n",
      "train\n",
      "<class 'mediapipe.python.solution_base.SolutionOutputs'>\n",
      "train\n",
      "<class 'mediapipe.python.solution_base.SolutionOutputs'>\n",
      "train\n",
      "<class 'mediapipe.python.solution_base.SolutionOutputs'>\n",
      "train\n",
      "<class 'mediapipe.python.solution_base.SolutionOutputs'>\n",
      "train\n",
      "<class 'mediapipe.python.solution_base.SolutionOutputs'>\n",
      "train\n",
      "<class 'mediapipe.python.solution_base.SolutionOutputs'>\n",
      "train\n",
      "<class 'mediapipe.python.solution_base.SolutionOutputs'>\n",
      "train\n",
      "<class 'mediapipe.python.solution_base.SolutionOutputs'>\n",
      "train\n",
      "<class 'mediapipe.python.solution_base.SolutionOutputs'>\n",
      "phone number\n",
      "<class 'mediapipe.python.solution_base.SolutionOutputs'>\n",
      "phone number\n",
      "<class 'mediapipe.python.solution_base.SolutionOutputs'>\n",
      "phone number\n",
      "<class 'mediapipe.python.solution_base.SolutionOutputs'>\n",
      "phone number\n",
      "<class 'mediapipe.python.solution_base.SolutionOutputs'>\n",
      "phone number\n",
      "<class 'mediapipe.python.solution_base.SolutionOutputs'>\n",
      "phone number\n",
      "<class 'mediapipe.python.solution_base.SolutionOutputs'>\n",
      "phone number\n",
      "<class 'mediapipe.python.solution_base.SolutionOutputs'>\n",
      "phone number\n",
      "<class 'mediapipe.python.solution_base.SolutionOutputs'>\n",
      "phone number\n",
      "<class 'mediapipe.python.solution_base.SolutionOutputs'>\n",
      "phone number\n",
      "<class 'mediapipe.python.solution_base.SolutionOutputs'>\n",
      "phone number\n",
      "<class 'mediapipe.python.solution_base.SolutionOutputs'>\n",
      "phone number\n",
      "<class 'mediapipe.python.solution_base.SolutionOutputs'>\n",
      "phone number\n",
      "<class 'mediapipe.python.solution_base.SolutionOutputs'>\n",
      "phone number\n",
      "<class 'mediapipe.python.solution_base.SolutionOutputs'>\n",
      "phone number\n",
      "<class 'mediapipe.python.solution_base.SolutionOutputs'>\n",
      "phone number\n",
      "<class 'mediapipe.python.solution_base.SolutionOutputs'>\n",
      "phone number\n",
      "<class 'mediapipe.python.solution_base.SolutionOutputs'>\n",
      "phone number\n",
      "<class 'mediapipe.python.solution_base.SolutionOutputs'>\n",
      "phone number\n",
      "<class 'mediapipe.python.solution_base.SolutionOutputs'>\n",
      "phone number\n",
      "<class 'mediapipe.python.solution_base.SolutionOutputs'>\n",
      "phone number\n",
      "<class 'mediapipe.python.solution_base.SolutionOutputs'>\n",
      "phone number\n",
      "<class 'mediapipe.python.solution_base.SolutionOutputs'>\n",
      "phone number\n",
      "<class 'mediapipe.python.solution_base.SolutionOutputs'>\n",
      "phone number\n",
      "<class 'mediapipe.python.solution_base.SolutionOutputs'>\n",
      "phone number\n",
      "<class 'mediapipe.python.solution_base.SolutionOutputs'>\n",
      "phone number\n",
      "<class 'mediapipe.python.solution_base.SolutionOutputs'>\n",
      "phone number\n",
      "<class 'mediapipe.python.solution_base.SolutionOutputs'>\n",
      "phone number\n",
      "<class 'mediapipe.python.solution_base.SolutionOutputs'>\n",
      "phone number\n",
      "<class 'mediapipe.python.solution_base.SolutionOutputs'>\n",
      "phone number\n",
      "<class 'mediapipe.python.solution_base.SolutionOutputs'>\n",
      "phone number\n",
      "<class 'mediapipe.python.solution_base.SolutionOutputs'>\n",
      "phone number\n",
      "<class 'mediapipe.python.solution_base.SolutionOutputs'>\n",
      "phone number\n",
      "<class 'mediapipe.python.solution_base.SolutionOutputs'>\n",
      "phone number\n",
      "<class 'mediapipe.python.solution_base.SolutionOutputs'>\n",
      "phone number\n",
      "<class 'mediapipe.python.solution_base.SolutionOutputs'>\n",
      "phone number\n",
      "<class 'mediapipe.python.solution_base.SolutionOutputs'>\n",
      "phone number\n",
      "<class 'mediapipe.python.solution_base.SolutionOutputs'>\n",
      "phone number\n",
      "<class 'mediapipe.python.solution_base.SolutionOutputs'>\n",
      "phone number\n",
      "<class 'mediapipe.python.solution_base.SolutionOutputs'>\n",
      "phone number\n",
      "<class 'mediapipe.python.solution_base.SolutionOutputs'>\n",
      "phone number\n"
     ]
    }
   ],
   "source": [
    "sequence = []\n",
    "sentence = []\n",
    "predictions = []\n",
    "threshold = 0.5\n",
    "\n",
    "cap = cv2.VideoCapture(0)\n",
    "# Set mediapipe model \n",
    "with mp_holistic.Holistic(min_detection_confidence=0.5, min_tracking_confidence=0.5) as holistic:\n",
    "    while cap.isOpened():\n",
    "\n",
    "        # Read feed\n",
    "        ret, frame = cap.read()\n",
    "\n",
    "        # Make detections\n",
    "        image, results = mediapipe_detection(frame, holistic)\n",
    "        print(results)\n",
    "        \n",
    "        # Draw landmarks\n",
    "        draw_styled_landmarks(image, results)\n",
    "        \n",
    "        # 2. Prediction logic\n",
    "        keypoints = extract_keypoints(results)\n",
    "        sequence.append(keypoints)\n",
    "        sequence = sequence[-30:]\n",
    "        \n",
    "        if len(sequence) == 30:\n",
    "            res = model.predict(np.expand_dims(sequence, axis=0))[0]\n",
    "            print(actions[np.argmax(res)])\n",
    "            predictions.append(np.argmax(res))\n",
    "            \n",
    "            \n",
    "        #3. Viz logic\n",
    "            if np.unique(predictions[-10:])[0]==np.argmax(res): \n",
    "                if res[np.argmax(res)] > threshold: \n",
    "                    \n",
    "                    if len(sentence) > 0: \n",
    "                        if actions[np.argmax(res)] != sentence[-1]:\n",
    "                            sentence.append(actions[np.argmax(res)])\n",
    "                    else:\n",
    "                        sentence.append(actions[np.argmax(res)])\n",
    "\n",
    "            if len(sentence) > 5: \n",
    "                sentence = sentence[-5:]\n",
    "\n",
    "            # Viz probabilities\n",
    "#             image = prob_viz(res, actions, image, colors)\n",
    "            \n",
    "#         cv2.rectangle(image, (0,0), (640, 40), (245, 117, 16), -1)\n",
    "#         cv2.putText(image, ' '.join(sentence), (3,30), \n",
    "#                        cv2.FONT_HERSHEY_SIMPLEX, 1, (255, 255, 255), 2, cv2.LINE_AA)\n",
    "        \n",
    "        # Show to screen\n",
    "        cv2.imshow('OpenCV Feed', image)\n",
    "\n",
    "        # Break gracefully\n",
    "        if cv2.waitKey(10) & 0xFF == ord('q'):\n",
    "            break\n",
    "    cap.release()\n",
    "    cv2.destroyAllWindows()"
   ]
  },
  {
   "cell_type": "code",
   "execution_count": null,
   "metadata": {},
   "outputs": [],
   "source": []
  }
 ],
 "metadata": {
  "kernelspec": {
   "display_name": "Python 3",
   "language": "python",
   "name": "python3"
  },
  "language_info": {
   "codemirror_mode": {
    "name": "ipython",
    "version": 3
   },
   "file_extension": ".py",
   "mimetype": "text/x-python",
   "name": "python",
   "nbconvert_exporter": "python",
   "pygments_lexer": "ipython3",
   "version": "3.8.8"
  }
 },
 "nbformat": 4,
 "nbformat_minor": 2
}
